{
 "cells": [
  {
   "cell_type": "code",
   "execution_count": 6,
   "id": "dcbd104c",
   "metadata": {},
   "outputs": [
    {
     "name": "stdout",
     "output_type": "stream",
     "text": [
      "/Users/shreemit/Developer/RecipeGenerator/RecipeGeneratorNLP/Recipe/recipe1M_layers\n"
     ]
    }
   ],
   "source": [
    "%cd recipe1M_layers"
   ]
  },
  {
   "cell_type": "code",
   "execution_count": 9,
   "id": "c9228191",
   "metadata": {},
   "outputs": [
    {
     "name": "stdout",
     "output_type": "stream",
     "text": [
      "layer1.json layer2.json\r\n"
     ]
    }
   ],
   "source": [
    "!ls"
   ]
  },
  {
   "cell_type": "code",
   "execution_count": 115,
   "id": "28ae3581",
   "metadata": {},
   "outputs": [],
   "source": [
    "import re\n",
    "import pandas as pd"
   ]
  },
  {
   "cell_type": "code",
   "execution_count": 12,
   "id": "8a7dff52",
   "metadata": {},
   "outputs": [],
   "source": [
    "import json\n",
    "with open('layer1.json') as json_file:\n",
    "    data = json.load(json_file)"
   ]
  },
  {
   "cell_type": "code",
   "execution_count": 110,
   "id": "577ffae3",
   "metadata": {},
   "outputs": [
    {
     "data": {
      "text/plain": [
       "'Worlds Best Mac and Cheese'"
      ]
     },
     "execution_count": 110,
     "metadata": {},
     "output_type": "execute_result"
    }
   ],
   "source": [
    "recipes = data\n",
    "recipes[0]['title']"
   ]
  },
  {
   "cell_type": "code",
   "execution_count": 91,
   "id": "1f1f135b",
   "metadata": {},
   "outputs": [],
   "source": [
    "def get_ingredients(recipe):    \n",
    "    ingredients = recipe['ingredients']\n",
    "    measurements = ['oz', 'ounces','ounce', 'cups', 'cup', 'teaspoon', '/', 'to', 'lbs','lb', 'tsp', 'jar']\n",
    "    item_list = []\n",
    "    for item in ingredients:\n",
    "        item = item['text']\n",
    "    #     item = item.split('(')[0].strip() # remove items in brackets\n",
    "        item = re.sub(r'\\s*\\([^)]*\\)', '', item)\n",
    "        item = ''.join([char for char in item if not char.isdigit()]) # remove numbers\n",
    "        for measurement in measurements:\n",
    "            item = item.replace(measurement, '').strip() # remove measurements\n",
    "        item.strip()\n",
    "        if item:\n",
    "            item_list.append(item)\n",
    "\n",
    "\n",
    "    ingredient_list = '|'.join(item_list)\n",
    "    return ingredient_list"
   ]
  },
  {
   "cell_type": "code",
   "execution_count": 106,
   "id": "636a82dd",
   "metadata": {},
   "outputs": [
    {
     "data": {
      "text/plain": [
       "'For the cupcakes: Preheat the oven to 350 degrees F. Fill the cupcake pan with paper liners.Beat the granulated sugar and butter until light and fluffy in a standing mixer.Beat in the eggs.Add the lemon zest and juice and beat until combined.Sift the flour, baking powder, baking soda and salt in a separate bowl.Alternately add the buttermilk and flour mixture to the standing mixer, beating well between each addition.Fill the cupcake liners two-thirds full.Bake the cupcakes until a toothpick inserted comes out clean, 18 to 22 minutes.Refrigerate the cupcakes until they are completely cooled.For the filling: Cook 1/3 cup water, 1 cup of the blueberries and granulated sugar over medium heat for 10 minutes, stirring frequently.Once the blueberries begin to burst, add the remaining 1 cup blueberries and cook on medium heat, 8 to 10 minutes.The filling is done when it coats the back of a metal spoon.For the frosting: Beat the butter and cream cheese until light and fluffy in a standing mixer.Add the powdered sugar, vanilla and salt.Beat until light and fluffy.Core the cupcakes using an apple corer.Fill each cupcake core with the blueberry compote filling and top with the cream cheese frosting.This recipe was created by a contestant during a cooking competition.The Food Network Kitchens have not tested it for home use, therefore, we cannot make any representation as to the results.'"
      ]
     },
     "execution_count": 106,
     "metadata": {},
     "output_type": "execute_result"
    }
   ],
   "source": [
    "def get_instructions(recipe):\n",
    "    instructions = recipe['instructions']\n",
    "    instr_str = \"\"\n",
    "    for instr in instructions:\n",
    "        instr_str += instr['text']\n",
    "    return instr_str\n",
    "\n",
    "get_instructions(recipes[32])"
   ]
  },
  {
   "cell_type": "code",
   "execution_count": 113,
   "id": "b0698cf6",
   "metadata": {},
   "outputs": [],
   "source": [
    "in_recipe = []\n",
    "\n",
    "for recipe in recipes:\n",
    "    ingredients = get_ingredients(recipe)\n",
    "    instr = get_instructions(recipe)\n",
    "    qna = { \"title\": recipe['title'],\n",
    "            \"ingred\": ingredients,\n",
    "            \"instructions\": instr }\n",
    "    in_recipe.append(qna)"
   ]
  },
  {
   "cell_type": "code",
   "execution_count": 116,
   "id": "674e7a2b",
   "metadata": {},
   "outputs": [],
   "source": [
    "df = pd.DataFrame(in_recipe)"
   ]
  },
  {
   "cell_type": "code",
   "execution_count": 119,
   "id": "a4bb381a",
   "metadata": {},
   "outputs": [
    {
     "data": {
      "text/html": [
       "<div>\n",
       "<style scoped>\n",
       "    .dataframe tbody tr th:only-of-type {\n",
       "        vertical-align: middle;\n",
       "    }\n",
       "\n",
       "    .dataframe tbody tr th {\n",
       "        vertical-align: top;\n",
       "    }\n",
       "\n",
       "    .dataframe thead th {\n",
       "        text-align: right;\n",
       "    }\n",
       "</style>\n",
       "<table border=\"1\" class=\"dataframe\">\n",
       "  <thead>\n",
       "    <tr style=\"text-align: right;\">\n",
       "      <th></th>\n",
       "      <th>title</th>\n",
       "      <th>ingred</th>\n",
       "      <th>instructions</th>\n",
       "    </tr>\n",
       "  </thead>\n",
       "  <tbody>\n",
       "    <tr>\n",
       "      <th>1029715</th>\n",
       "      <td>Baumkuchen -- the King of Cakes!</td>\n",
       "      <td>butter, room temperature|sugar|eggs|tablespoon...</td>\n",
       "      <td>Whip butter and sugar well until creamy.Gradua...</td>\n",
       "    </tr>\n",
       "    <tr>\n",
       "      <th>1029716</th>\n",
       "      <td>Extremely Easy and Quick - Namul Daikon Salad</td>\n",
       "      <td>grams Daikon radish|tbsp Sesame oil|tbsp White...</td>\n",
       "      <td>Julienne the daikon and squeeze out the excess...</td>\n",
       "    </tr>\n",
       "    <tr>\n",
       "      <th>1029717</th>\n",
       "      <td>Pan-Roasted Pork Chops With Apple Fritters</td>\n",
       "      <td>apple cider|tablespoons sugar|tablespoons kosh...</td>\n",
       "      <td>In a large bowl, mix the apple cider with 4 cu...</td>\n",
       "    </tr>\n",
       "    <tr>\n",
       "      <th>1029718</th>\n",
       "      <td>Polpette in Spicy Tomato Sauce</td>\n",
       "      <td>pound ground veal|pound sweet Italian sausage,...</td>\n",
       "      <td>Preheat the oven to 350.In a bowl, mix the vea...</td>\n",
       "    </tr>\n",
       "    <tr>\n",
       "      <th>1029719</th>\n",
       "      <td>Mexican-Style Sweetened Black Coffee (Cafe de ...</td>\n",
       "      <td>water|packed light brown sugar|molasses|cinnam...</td>\n",
       "      <td>Bring water, brown sugar, molasses, and cinnam...</td>\n",
       "    </tr>\n",
       "  </tbody>\n",
       "</table>\n",
       "</div>"
      ],
      "text/plain": [
       "                                                     title  \\\n",
       "1029715                   Baumkuchen -- the King of Cakes!   \n",
       "1029716      Extremely Easy and Quick - Namul Daikon Salad   \n",
       "1029717         Pan-Roasted Pork Chops With Apple Fritters   \n",
       "1029718                     Polpette in Spicy Tomato Sauce   \n",
       "1029719  Mexican-Style Sweetened Black Coffee (Cafe de ...   \n",
       "\n",
       "                                                    ingred  \\\n",
       "1029715  butter, room temperature|sugar|eggs|tablespoon...   \n",
       "1029716  grams Daikon radish|tbsp Sesame oil|tbsp White...   \n",
       "1029717  apple cider|tablespoons sugar|tablespoons kosh...   \n",
       "1029718  pound ground veal|pound sweet Italian sausage,...   \n",
       "1029719  water|packed light brown sugar|molasses|cinnam...   \n",
       "\n",
       "                                              instructions  \n",
       "1029715  Whip butter and sugar well until creamy.Gradua...  \n",
       "1029716  Julienne the daikon and squeeze out the excess...  \n",
       "1029717  In a large bowl, mix the apple cider with 4 cu...  \n",
       "1029718  Preheat the oven to 350.In a bowl, mix the vea...  \n",
       "1029719  Bring water, brown sugar, molasses, and cinnam...  "
      ]
     },
     "execution_count": 119,
     "metadata": {},
     "output_type": "execute_result"
    }
   ],
   "source": [
    "df.tail()"
   ]
  },
  {
   "cell_type": "code",
   "execution_count": 121,
   "id": "861d901c",
   "metadata": {},
   "outputs": [
    {
     "data": {
      "text/plain": [
       "809994"
      ]
     },
     "execution_count": 121,
     "metadata": {},
     "output_type": "execute_result"
    }
   ],
   "source": [
    "len(df.title.unique())"
   ]
  },
  {
   "cell_type": "code",
   "execution_count": null,
   "id": "5bbbe206",
   "metadata": {},
   "outputs": [],
   "source": []
  }
 ],
 "metadata": {
  "kernelspec": {
   "display_name": "Python 3 (ipykernel)",
   "language": "python",
   "name": "python3"
  },
  "language_info": {
   "codemirror_mode": {
    "name": "ipython",
    "version": 3
   },
   "file_extension": ".py",
   "mimetype": "text/x-python",
   "name": "python",
   "nbconvert_exporter": "python",
   "pygments_lexer": "ipython3",
   "version": "3.9.6"
  }
 },
 "nbformat": 4,
 "nbformat_minor": 5
}
