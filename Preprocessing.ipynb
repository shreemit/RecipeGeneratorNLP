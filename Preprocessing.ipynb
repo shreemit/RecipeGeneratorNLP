{
 "cells": [
  {
   "cell_type": "code",
   "execution_count": 6,
   "id": "ca87f6dc",
   "metadata": {},
   "outputs": [
    {
     "name": "stdout",
     "output_type": "stream",
     "text": [
      "/Users/shreemit/Developer/RecipeGenerator/RecipeGeneratorNLP/Recipe/recipe1M_layers\n"
     ]
    }
   ],
   "source": [
    "%cd recipe1M_layers"
   ]
  },
  {
   "cell_type": "code",
   "execution_count": 9,
   "id": "f0db333c",
   "metadata": {},
   "outputs": [
    {
     "name": "stdout",
     "output_type": "stream",
     "text": [
      "layer1.json layer2.json\r\n"
     ]
    }
   ],
   "source": [
    "!ls"
   ]
  },
  {
   "cell_type": "code",
   "execution_count": 62,
   "id": "ab5a5e52",
   "metadata": {},
   "outputs": [],
   "source": [
    "import re"
   ]
  },
  {
   "cell_type": "code",
   "execution_count": 12,
   "id": "359f470a",
   "metadata": {},
   "outputs": [],
   "source": [
    "import json\n",
    "with open('layer1.json') as json_file:\n",
    "    data = json.load(json_file)"
   ]
  },
  {
   "cell_type": "code",
   "execution_count": 90,
   "id": "12f9e5a9",
   "metadata": {},
   "outputs": [
    {
     "data": {
      "text/plain": [
       "[{'text': '6 ounces penne'},\n",
       " {'text': '2 cups Beechers Flagship Cheese Sauce (recipe follows)'},\n",
       " {'text': '1 ounce Cheddar, grated (1/4 cup)'},\n",
       " {'text': '1 ounce Gruyere cheese, grated (1/4 cup)'},\n",
       " {'text': '1/4 to 1/2 teaspoon chipotle chili powder (see Note)'},\n",
       " {'text': '1/4 cup (1/2 stick) unsalted butter'},\n",
       " {'text': '1/3 cup all-purpose flour'},\n",
       " {'text': '3 cups milk'},\n",
       " {'text': '14 ounces semihard cheese (page 23), grated (about 3 1/2 cups)'},\n",
       " {'text': '2 ounces semisoft cheese (page 23), grated (1/2 cup)'},\n",
       " {'text': '1/2 teaspoon kosher salt'},\n",
       " {'text': '1/4 to 1/2 teaspoon chipotle chili powder'},\n",
       " {'text': '1/8 teaspoon garlic powder'},\n",
       " {'text': '(makes about 4 cups)'}]"
      ]
     },
     "execution_count": 90,
     "metadata": {},
     "output_type": "execute_result"
    }
   ],
   "source": [
    "recipes = data\n",
    "recipes[0]['ingredients']"
   ]
  },
  {
   "cell_type": "code",
   "execution_count": 91,
   "id": "29384cd0",
   "metadata": {},
   "outputs": [],
   "source": [
    "def get_ingredients(recipe):    \n",
    "    ingredients = recipe['ingredients']\n",
    "    measurements = ['oz', 'ounces','ounce', 'cups', 'cup', 'teaspoon', '/', 'to', 'lbs','lb', 'tsp', 'jar']\n",
    "    item_list = []\n",
    "    for item in ingredients:\n",
    "        item = item['text']\n",
    "    #     item = item.split('(')[0].strip() # remove items in brackets\n",
    "        item = re.sub(r'\\s*\\([^)]*\\)', '', item)\n",
    "        item = ''.join([char for char in item if not char.isdigit()]) # remove numbers\n",
    "        for measurement in measurements:\n",
    "            item = item.replace(measurement, '').strip() # remove measurements\n",
    "        item.strip()\n",
    "        if item:\n",
    "            item_list.append(item)\n",
    "\n",
    "\n",
    "    ingredient_list = '|'.join(item_list)\n",
    "    return ingredient_list"
   ]
  },
  {
   "cell_type": "code",
   "execution_count": 92,
   "id": "31d1943d",
   "metadata": {},
   "outputs": [],
   "source": [
    "in_recipe = []\n",
    "\n",
    "for recipe in recipes:\n",
    "    ingredients = get_ingredients(recipe)\n",
    "    instr = \"test steps\"\n",
    "    qna = { \"ingred\": ingredients,\n",
    "            \"instructions\": instr }\n",
    "    in_recipe.append(qna)"
   ]
  },
  {
   "cell_type": "code",
   "execution_count": 93,
   "id": "ddda408e",
   "metadata": {},
   "outputs": [
    {
     "data": {
      "text/plain": [
       "1029720"
      ]
     },
     "execution_count": 93,
     "metadata": {},
     "output_type": "execute_result"
    }
   ],
   "source": [
    "len(in_recipe)"
   ]
  },
  {
   "cell_type": "code",
   "execution_count": 94,
   "id": "36816bd4",
   "metadata": {},
   "outputs": [
    {
     "data": {
      "text/plain": [
       "{'ingred': 'penne|Beechers Flagship Cheese Sauce|Cheddar, grated|Gruyere cheese, grated|chipotle chili powder|unsalted butter|all-purpose flour|milk|semihard cheese, grated|semisoft cheese, grated|kosher salt|chipotle chili powder|garlic powder',\n",
       " 'instructions': 'test steps'}"
      ]
     },
     "execution_count": 94,
     "metadata": {},
     "output_type": "execute_result"
    }
   ],
   "source": [
    "in_recipe[0]"
   ]
  },
  {
   "cell_type": "code",
   "execution_count": null,
   "id": "d7a21ebe",
   "metadata": {},
   "outputs": [],
   "source": []
  }
 ],
 "metadata": {
  "kernelspec": {
   "display_name": "Python 3 (ipykernel)",
   "language": "python",
   "name": "python3"
  },
  "language_info": {
   "codemirror_mode": {
    "name": "ipython",
    "version": 3
   },
   "file_extension": ".py",
   "mimetype": "text/x-python",
   "name": "python",
   "nbconvert_exporter": "python",
   "pygments_lexer": "ipython3",
   "version": "3.9.6"
  }
 },
 "nbformat": 4,
 "nbformat_minor": 5
}
