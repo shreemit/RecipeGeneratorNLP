{
 "cells": [
  {
   "cell_type": "code",
   "execution_count": 2,
   "id": "GzjkAYwaJY3O",
   "metadata": {
    "colab": {
     "base_uri": "https://localhost:8080/"
    },
    "executionInfo": {
     "elapsed": 1320,
     "status": "ok",
     "timestamp": 1676416234213,
     "user": {
      "displayName": "Shreemit Garimella",
      "userId": "04027312352779340061"
     },
     "user_tz": 480
    },
    "id": "GzjkAYwaJY3O",
    "outputId": "b90e5a37-de8c-4a8f-93e5-dbc8d7495dce"
   },
   "outputs": [
    {
     "name": "stdout",
     "output_type": "stream",
     "text": [
      "Drive already mounted at /content/gdrive; to attempt to forcibly remount, call drive.mount(\"/content/gdrive\", force_remount=True).\n"
     ]
    }
   ],
   "source": [
    "from google.colab import drive\n",
    "drive.mount('/content/gdrive')"
   ]
  },
  {
   "cell_type": "code",
   "execution_count": 3,
   "id": "dcbd104c",
   "metadata": {
    "colab": {
     "base_uri": "https://localhost:8080/"
    },
    "executionInfo": {
     "elapsed": 475,
     "status": "ok",
     "timestamp": 1676416237031,
     "user": {
      "displayName": "Shreemit Garimella",
      "userId": "04027312352779340061"
     },
     "user_tz": 480
    },
    "id": "dcbd104c",
    "outputId": "f126aafc-3aa6-4aa7-9b04-e5261f08015e"
   },
   "outputs": [
    {
     "name": "stdout",
     "output_type": "stream",
     "text": [
      "/content/gdrive/MyDrive/RecipeGen/RecipeGeneratorNLP\n"
     ]
    }
   ],
   "source": [
    "%cd /content/gdrive/MyDrive/RecipeGen/RecipeGeneratorNLP"
   ]
  },
  {
   "cell_type": "code",
   "execution_count": 1,
   "id": "c9228191",
   "metadata": {
    "colab": {
     "base_uri": "https://localhost:8080/"
    },
    "executionInfo": {
     "elapsed": 270,
     "status": "ok",
     "timestamp": 1676416238050,
     "user": {
      "displayName": "Shreemit Garimella",
      "userId": "04027312352779340061"
     },
     "user_tz": 480
    },
    "id": "c9228191",
    "outputId": "93175ae8-b304-42c9-c3b5-81a5c45490b6"
   },
   "outputs": [
    {
     "name": "stdout",
     "output_type": "stream",
     "text": [
      "cached_lm_GPT2TokenizerFast_128_test_dataset.txt\n",
      "cached_lm_GPT2TokenizerFast_128_test_dataset.txt.lock\n",
      "cached_lm_GPT2TokenizerFast_128_train_dataset.txt\n",
      "cached_lm_GPT2TokenizerFast_128_train_dataset.txt.lock\n",
      "generate_dataset.py\n",
      "gpt2\n",
      "layer1.json\n",
      "LICENSE\n",
      "Preprocessing.ipynb\n",
      "README.md\n",
      "Recipe\n",
      "RecipeGenerator\n",
      "RecipeGenerator.xcodeproj\n",
      "RecipeTraining.ipynb\n",
      "test_dataset.txt\n",
      "test.py\n",
      "train_dataset.txt\n",
      "Training.py\n"
     ]
    }
   ],
   "source": [
    "!ls"
   ]
  },
  {
   "cell_type": "code",
   "execution_count": 1,
   "id": "28ae3581",
   "metadata": {
    "executionInfo": {
     "elapsed": 1192,
     "status": "ok",
     "timestamp": 1676416487168,
     "user": {
      "displayName": "Shreemit Garimella",
      "userId": "04027312352779340061"
     },
     "user_tz": 480
    },
    "id": "28ae3581",
    "tags": []
   },
   "outputs": [],
   "source": [
    "import re\n",
    "import pandas as pd\n",
    "import re\n",
    "from sklearn.model_selection import train_test_split"
   ]
  },
  {
   "cell_type": "code",
   "execution_count": null,
   "id": "3de77481-6736-4e67-a563-86722f672b99",
   "metadata": {},
   "outputs": [],
   "source": []
  },
  {
   "cell_type": "code",
   "execution_count": 2,
   "id": "8a7dff52",
   "metadata": {
    "id": "8a7dff52",
    "tags": []
   },
   "outputs": [],
   "source": [
    "import json\n",
    "with open('layer1.json') as json_file:\n",
    "    data = json.load(json_file)\n",
    "\n",
    "train_data, test_data = train_test_split(data, test_size = 0.2, shuffle = True)"
   ]
  },
  {
   "cell_type": "code",
   "execution_count": 3,
   "id": "577ffae3",
   "metadata": {
    "colab": {
     "base_uri": "https://localhost:8080/",
     "height": 35
    },
    "executionInfo": {
     "elapsed": 214,
     "status": "ok",
     "timestamp": 1676416356062,
     "user": {
      "displayName": "Shreemit Garimella",
      "userId": "04027312352779340061"
     },
     "user_tz": 480
    },
    "id": "577ffae3",
    "outputId": "342aa1aa-4a8e-4a99-a9d9-622a757a8bad",
    "tags": []
   },
   "outputs": [
    {
     "data": {
      "text/plain": [
       "'Worlds Best Mac and Cheese'"
      ]
     },
     "execution_count": 3,
     "metadata": {},
     "output_type": "execute_result"
    }
   ],
   "source": [
    "recipes = data\n",
    "recipes[0]['title']"
   ]
  },
  {
   "cell_type": "code",
   "execution_count": 24,
   "id": "1f1f135b",
   "metadata": {
    "executionInfo": {
     "elapsed": 2,
     "status": "ok",
     "timestamp": 1676416356840,
     "user": {
      "displayName": "Shreemit Garimella",
      "userId": "04027312352779340061"
     },
     "user_tz": 480
    },
    "id": "1f1f135b",
    "tags": []
   },
   "outputs": [],
   "source": [
    "def get_ingredients(recipe):    \n",
    "    ingredients = recipe['ingredients']\n",
    "    measurements = ['oz', 'ounces','ounce', 'cups', 'cup', 'teaspoon', '/', 'to', 'lbs','lb', 'tsp', 'jar']\n",
    "    item_list = []\n",
    "    for item in ingredients:\n",
    "        item = item['text']\n",
    "        item = item.lower()\n",
    "    #     item = item.split('(')[0].strip() # remove items in brackets\n",
    "        item = re.sub(r'\\s*\\([^)]*\\)', '', item)\n",
    "        item = ''.join([char for char in item if not char.isdigit()]) # remove numbers\n",
    "        for measurement in measurements:\n",
    "            item = item.replace(measurement, '').strip() # remove measurements\n",
    "        item.strip()\n",
    "        if item:\n",
    "            item_list.append(item)\n",
    "    ingredient_list = '<SOI> ' + ' <ISEP> '.join(item_list) + ' <EOI>'\n",
    "    return ingredient_list"
   ]
  },
  {
   "cell_type": "code",
   "execution_count": 25,
   "id": "91d415cc-bb49-4bd2-9975-939efa240f11",
   "metadata": {
    "tags": []
   },
   "outputs": [
    {
     "data": {
      "text/plain": [
       "'<SOI> packages crescent rolls <ISEP> sausage, fried and crumbled <ISEP> swiss cheese <ISEP> cheddar cheese <ISEP> eggs <ISEP> oregano <ISEP> garlic powder <ISEP> parmesan cheese,  taste <EOI>'"
      ]
     },
     "execution_count": 25,
     "metadata": {},
     "output_type": "execute_result"
    }
   ],
   "source": [
    "get_ingredients(recipes[1000])"
   ]
  },
  {
   "cell_type": "code",
   "execution_count": 26,
   "id": "636a82dd",
   "metadata": {
    "colab": {
     "base_uri": "https://localhost:8080/",
     "height": 161
    },
    "executionInfo": {
     "elapsed": 195,
     "status": "ok",
     "timestamp": 1676416435302,
     "user": {
      "displayName": "Shreemit Garimella",
      "userId": "04027312352779340061"
     },
     "user_tz": 480
    },
    "id": "636a82dd",
    "outputId": "58921976-bf0d-45fd-e6f1-55c73850f367",
    "tags": []
   },
   "outputs": [
    {
     "data": {
      "text/plain": [
       "'<SOR> for the cupcakes: preheat the oven to 350 degrees f. fill the cupcake pan with paper liners.beat the granulated sugar and butter until light and fluffy in a standing mixer.beat in the eggs.add the lemon zest and juice and beat until combined.sift the flour, baking powder, baking soda and salt in a separate bowl.alternately add the buttermilk and flour mixture to the standing mixer, beating well between each addition.fill the cupcake liners two-thirds full.bake the cupcakes until a toothpick inserted comes out clean, 18 to 22 minutes.refrigerate the cupcakes until they are completely cooled.for the filling: cook 1/3 cup water, 1 cup of the blueberries and granulated sugar over medium heat for 10 minutes, stirring frequently.once the blueberries begin to burst, add the remaining 1 cup blueberries and cook on medium heat, 8 to 10 minutes.the filling is done when it coats the back of a metal spoon.for the frosting: beat the butter and cream cheese until light and fluffy in a standing mixer.add the powdered sugar, vanilla and salt.beat until light and fluffy.core the cupcakes using an apple corer.fill each cupcake core with the blueberry compote filling and top with the cream cheese frosting.this recipe was created by a contestant during a cooking competition.the food network kitchens have not tested it for home use, therefore, we cannot make any representation as to the results. <EOR>'"
      ]
     },
     "execution_count": 26,
     "metadata": {},
     "output_type": "execute_result"
    }
   ],
   "source": [
    "def get_instructions(recipe):\n",
    "    instructions = recipe['instructions']\n",
    "    instr_str = \"<SOR> \"\n",
    "    for instr in instructions:\n",
    "      recipe = re.sub(r\"\\s\", \" \", instr['text'])\n",
    "      instr_str += recipe.lower().strip()\n",
    "    instr_str += ' <EOR>'\n",
    "    return instr_str\n",
    "\n",
    "get_instructions(recipes[32])"
   ]
  },
  {
   "cell_type": "code",
   "execution_count": 27,
   "id": "l8aKzeIdOJGi",
   "metadata": {
    "id": "l8aKzeIdOJGi",
    "tags": []
   },
   "outputs": [],
   "source": [
    "def build_text_files(data_json, dest_path):\n",
    "    f = open(dest_path, 'w')\n",
    "    data = ''\n",
    "    for texts in data_json:\n",
    "        summary = str(texts['Instructions']).strip()\n",
    "        summary = re.sub(r\"\\s\", \" \", summary)\n",
    "        data += summary + \"  \"\n",
    "    f.write(data)"
   ]
  },
  {
   "cell_type": "code",
   "execution_count": 28,
   "id": "B-O5sQcmN-AW",
   "metadata": {
    "id": "B-O5sQcmN-AW",
    "tags": []
   },
   "outputs": [],
   "source": [
    "train_path = 'train_dataset2.txt'\n",
    "test_path = 'test_dataset2.txt'"
   ]
  },
  {
   "cell_type": "code",
   "execution_count": 29,
   "id": "b0698cf6",
   "metadata": {
    "colab": {
     "base_uri": "https://localhost:8080/",
     "height": 389
    },
    "executionInfo": {
     "elapsed": 4533,
     "status": "error",
     "timestamp": 1676416450635,
     "user": {
      "displayName": "Shreemit Garimella",
      "userId": "04027312352779340061"
     },
     "user_tz": 480
    },
    "id": "b0698cf6",
    "outputId": "b7a9f22c-097b-4086-c4da-eb1ed701da7c",
    "tags": []
   },
   "outputs": [],
   "source": [
    "def build_text_files(recipes, dest_path):\n",
    "  f = open(dest_path, 'w')\n",
    "  in_recipe = ''\n",
    "  for recipe in recipes:\n",
    "    ingredients = get_ingredients(recipe)\n",
    "    instr = get_instructions(recipe)\n",
    "    text = ingredients+\" \"+instr\n",
    "    text = re.sub(r\"\\s\", \" \", text)\n",
    "    in_recipe += text\n",
    "  f.write(in_recipe)\n"
   ]
  },
  {
   "cell_type": "code",
   "execution_count": null,
   "id": "-VWkxGjSMXW0",
   "metadata": {
    "colab": {
     "base_uri": "https://localhost:8080/",
     "height": 169
    },
    "executionInfo": {
     "elapsed": 208,
     "status": "error",
     "timestamp": 1676416220126,
     "user": {
      "displayName": "Shreemit Garimella",
      "userId": "04027312352779340061"
     },
     "user_tz": 480
    },
    "id": "-VWkxGjSMXW0",
    "outputId": "3ee7e029-e7e0-42b1-abdb-cdd3da588c77",
    "tags": []
   },
   "outputs": [],
   "source": [
    "build_text_files(train_data, train_path)\n",
    "build_text_files(test_data, test_path)"
   ]
  }
 ],
 "metadata": {
  "colab": {
   "provenance": []
  },
  "kernelspec": {
   "display_name": "Python 3 (ipykernel)",
   "language": "python",
   "name": "python3"
  },
  "language_info": {
   "codemirror_mode": {
    "name": "ipython",
    "version": 3
   },
   "file_extension": ".py",
   "mimetype": "text/x-python",
   "name": "python",
   "nbconvert_exporter": "python",
   "pygments_lexer": "ipython3",
   "version": "3.10.9"
  }
 },
 "nbformat": 4,
 "nbformat_minor": 5
}
