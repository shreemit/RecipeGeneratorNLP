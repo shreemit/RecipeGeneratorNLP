{
 "cells": [
  {
   "cell_type": "code",
   "execution_count": 2,
   "id": "GzjkAYwaJY3O",
   "metadata": {
    "colab": {
     "base_uri": "https://localhost:8080/"
    },
    "executionInfo": {
     "elapsed": 1320,
     "status": "ok",
     "timestamp": 1676416234213,
     "user": {
      "displayName": "Shreemit Garimella",
      "userId": "04027312352779340061"
     },
     "user_tz": 480
    },
    "id": "GzjkAYwaJY3O",
    "outputId": "b90e5a37-de8c-4a8f-93e5-dbc8d7495dce"
   },
   "outputs": [
    {
     "name": "stdout",
     "output_type": "stream",
     "text": [
      "Drive already mounted at /content/gdrive; to attempt to forcibly remount, call drive.mount(\"/content/gdrive\", force_remount=True).\n"
     ]
    }
   ],
   "source": [
    "from google.colab import drive\n",
    "drive.mount('/content/gdrive')"
   ]
  },
  {
   "cell_type": "code",
   "execution_count": 3,
   "id": "dcbd104c",
   "metadata": {
    "colab": {
     "base_uri": "https://localhost:8080/"
    },
    "executionInfo": {
     "elapsed": 475,
     "status": "ok",
     "timestamp": 1676416237031,
     "user": {
      "displayName": "Shreemit Garimella",
      "userId": "04027312352779340061"
     },
     "user_tz": 480
    },
    "id": "dcbd104c",
    "outputId": "f126aafc-3aa6-4aa7-9b04-e5261f08015e"
   },
   "outputs": [
    {
     "name": "stdout",
     "output_type": "stream",
     "text": [
      "/content/gdrive/MyDrive/RecipeGen/RecipeGeneratorNLP\n"
     ]
    }
   ],
   "source": [
    "%cd /content/gdrive/MyDrive/RecipeGen/RecipeGeneratorNLP"
   ]
  },
  {
   "cell_type": "code",
   "execution_count": 1,
   "id": "c9228191",
   "metadata": {
    "colab": {
     "base_uri": "https://localhost:8080/"
    },
    "executionInfo": {
     "elapsed": 270,
     "status": "ok",
     "timestamp": 1676416238050,
     "user": {
      "displayName": "Shreemit Garimella",
      "userId": "04027312352779340061"
     },
     "user_tz": 480
    },
    "id": "c9228191",
    "outputId": "93175ae8-b304-42c9-c3b5-81a5c45490b6"
   },
   "outputs": [
    {
     "name": "stdout",
     "output_type": "stream",
     "text": [
      "cached_lm_GPT2TokenizerFast_128_test_dataset.txt\n",
      "cached_lm_GPT2TokenizerFast_128_test_dataset.txt.lock\n",
      "cached_lm_GPT2TokenizerFast_128_train_dataset.txt\n",
      "cached_lm_GPT2TokenizerFast_128_train_dataset.txt.lock\n",
      "generate_dataset.py\n",
      "gpt2\n",
      "layer1.json\n",
      "LICENSE\n",
      "Preprocessing.ipynb\n",
      "README.md\n",
      "Recipe\n",
      "RecipeGenerator\n",
      "RecipeGenerator.xcodeproj\n",
      "RecipeTraining.ipynb\n",
      "test_dataset.txt\n",
      "test.py\n",
      "train_dataset.txt\n",
      "Training.py\n"
     ]
    }
   ],
   "source": [
    "!ls"
   ]
  },
  {
   "cell_type": "code",
   "execution_count": 1,
   "id": "28ae3581",
   "metadata": {
    "executionInfo": {
     "elapsed": 1192,
     "status": "ok",
     "timestamp": 1676416487168,
     "user": {
      "displayName": "Shreemit Garimella",
      "userId": "04027312352779340061"
     },
     "user_tz": 480
    },
    "id": "28ae3581",
    "tags": []
   },
   "outputs": [],
   "source": [
    "import re\n",
    "import pandas as pd\n",
    "import re\n",
    "from sklearn.model_selection import train_test_split"
   ]
  },
  {
   "cell_type": "code",
   "execution_count": null,
   "id": "3de77481-6736-4e67-a563-86722f672b99",
   "metadata": {},
   "outputs": [],
   "source": []
  },
  {
   "cell_type": "code",
   "execution_count": 2,
   "id": "8a7dff52",
   "metadata": {
    "id": "8a7dff52",
    "tags": []
   },
   "outputs": [],
   "source": [
    "import json\n",
    "with open('layer1.json') as json_file:\n",
    "    data = json.load(json_file)\n",
    "\n",
    "train_data, test_data = train_test_split(data, test_size = 0.3, shuffle = True)"
   ]
  },
  {
   "cell_type": "code",
   "execution_count": 3,
   "id": "577ffae3",
   "metadata": {
    "colab": {
     "base_uri": "https://localhost:8080/",
     "height": 35
    },
    "executionInfo": {
     "elapsed": 214,
     "status": "ok",
     "timestamp": 1676416356062,
     "user": {
      "displayName": "Shreemit Garimella",
      "userId": "04027312352779340061"
     },
     "user_tz": 480
    },
    "id": "577ffae3",
    "outputId": "342aa1aa-4a8e-4a99-a9d9-622a757a8bad",
    "tags": []
   },
   "outputs": [
    {
     "data": {
      "text/plain": [
       "'Worlds Best Mac and Cheese'"
      ]
     },
     "execution_count": 3,
     "metadata": {},
     "output_type": "execute_result"
    }
   ],
   "source": [
    "recipes = data\n",
    "recipes[0]['title']"
   ]
  },
  {
   "cell_type": "code",
   "execution_count": 4,
   "id": "1f1f135b",
   "metadata": {
    "executionInfo": {
     "elapsed": 2,
     "status": "ok",
     "timestamp": 1676416356840,
     "user": {
      "displayName": "Shreemit Garimella",
      "userId": "04027312352779340061"
     },
     "user_tz": 480
    },
    "id": "1f1f135b",
    "tags": []
   },
   "outputs": [],
   "source": [
    "def get_ingredients(recipe):    \n",
    "    ingredients = recipe['ingredients']\n",
    "    measurements = ['oz', 'ounces','ounce', 'cups', 'cup', 'teaspoon', '/', 'to', 'lbs','lb', 'tsp', 'jar']\n",
    "    item_list = []\n",
    "    for item in ingredients:\n",
    "        item = item['text']\n",
    "        item = item.lower()\n",
    "    #     item = item.split('(')[0].strip() # remove items in brackets\n",
    "        item = re.sub(r'\\s*\\([^)]*\\)', '', item)\n",
    "        item = ''.join([char for char in item if not char.isdigit()]) # remove numbers\n",
    "        for measurement in measurements:\n",
    "            item = item.replace(measurement, '').strip() # remove measurements\n",
    "        item.strip()\n",
    "        if item:\n",
    "            item_list.append(item)\n",
    "    ingredient_list = '<SOI>'\n",
    "    ingredient_list = ' <ISEP> '.join(item_list)\n",
    "    return ingredient_list"
   ]
  },
  {
   "cell_type": "code",
   "execution_count": 6,
   "id": "636a82dd",
   "metadata": {
    "colab": {
     "base_uri": "https://localhost:8080/",
     "height": 161
    },
    "executionInfo": {
     "elapsed": 195,
     "status": "ok",
     "timestamp": 1676416435302,
     "user": {
      "displayName": "Shreemit Garimella",
      "userId": "04027312352779340061"
     },
     "user_tz": 480
    },
    "id": "636a82dd",
    "outputId": "58921976-bf0d-45fd-e6f1-55c73850f367"
   },
   "outputs": [
    {
     "data": {
      "text/plain": [
       "'recipe: for the cupcakes: preheat the oven to 350 degrees f. fill the cupcake pan with paper liners.beat the granulated sugar and butter until light and fluffy in a standing mixer.beat in the eggs.add the lemon zest and juice and beat until combined.sift the flour, baking powder, baking soda and salt in a separate bowl.alternately add the buttermilk and flour mixture to the standing mixer, beating well between each addition.fill the cupcake liners two-thirds full.bake the cupcakes until a toothpick inserted comes out clean, 18 to 22 minutes.refrigerate the cupcakes until they are completely cooled.for the filling: cook 1/3 cup water, 1 cup of the blueberries and granulated sugar over medium heat for 10 minutes, stirring frequently.once the blueberries begin to burst, add the remaining 1 cup blueberries and cook on medium heat, 8 to 10 minutes.the filling is done when it coats the back of a metal spoon.for the frosting: beat the butter and cream cheese until light and fluffy in a standing mixer.add the powdered sugar, vanilla and salt.beat until light and fluffy.core the cupcakes using an apple corer.fill each cupcake core with the blueberry compote filling and top with the cream cheese frosting.this recipe was created by a contestant during a cooking competition.the food network kitchens have not tested it for home use, therefore, we cannot make any representation as to the results.'"
      ]
     },
     "execution_count": 6,
     "metadata": {},
     "output_type": "execute_result"
    }
   ],
   "source": [
    "def get_instructions(recipe):\n",
    "    instructions = recipe['instructions']\n",
    "    instr_str = \"recipe: \"\n",
    "    for instr in instructions:\n",
    "      recipe = re.sub(r\"\\s\", \" \", instr['text'])\n",
    "      instr_str += recipe.lower().strip()\n",
    "    return instr_str\n",
    "\n",
    "get_instructions(recipes[32])"
   ]
  },
  {
   "cell_type": "code",
   "execution_count": 7,
   "id": "l8aKzeIdOJGi",
   "metadata": {
    "id": "l8aKzeIdOJGi"
   },
   "outputs": [],
   "source": [
    "def build_text_files(data_json, dest_path):\n",
    "    f = open(dest_path, 'w')\n",
    "    data = ''\n",
    "    for texts in data_json:\n",
    "        summary = str(texts['Instructions']).strip()\n",
    "        summary = re.sub(r\"\\s\", \" \", summary)\n",
    "        data += summary + \"  \"\n",
    "    f.write(data)"
   ]
  },
  {
   "cell_type": "code",
   "execution_count": 9,
   "id": "B-O5sQcmN-AW",
   "metadata": {
    "id": "B-O5sQcmN-AW"
   },
   "outputs": [],
   "source": [
    "train_path = 'train_dataset.txt'\n",
    "test_path = 'test_dataset.txt'"
   ]
  },
  {
   "cell_type": "code",
   "execution_count": 11,
   "id": "b0698cf6",
   "metadata": {
    "colab": {
     "base_uri": "https://localhost:8080/",
     "height": 389
    },
    "executionInfo": {
     "elapsed": 4533,
     "status": "error",
     "timestamp": 1676416450635,
     "user": {
      "displayName": "Shreemit Garimella",
      "userId": "04027312352779340061"
     },
     "user_tz": 480
    },
    "id": "b0698cf6",
    "outputId": "b7a9f22c-097b-4086-c4da-eb1ed701da7c"
   },
   "outputs": [],
   "source": [
    "def build_text_files(recipes, dest_path):\n",
    "  f = open(dest_path, 'w')\n",
    "  in_recipe = ''\n",
    "  for recipe in recipes:\n",
    "    ingredients = get_ingredients(recipe)\n",
    "    instr = get_instructions(recipe)\n",
    "    text = ingredients+\" \"+instr\n",
    "    text = re.sub(r\"\\s\", \" \", text)\n",
    "    in_recipe += text\n",
    "  f.write(in_recipe)\n"
   ]
  },
  {
   "cell_type": "code",
   "execution_count": 12,
   "id": "-VWkxGjSMXW0",
   "metadata": {
    "colab": {
     "base_uri": "https://localhost:8080/",
     "height": 169
    },
    "executionInfo": {
     "elapsed": 208,
     "status": "error",
     "timestamp": 1676416220126,
     "user": {
      "displayName": "Shreemit Garimella",
      "userId": "04027312352779340061"
     },
     "user_tz": 480
    },
    "id": "-VWkxGjSMXW0",
    "outputId": "3ee7e029-e7e0-42b1-abdb-cdd3da588c77"
   },
   "outputs": [],
   "source": [
    "build_text_files(train_data, train_path)\n",
    "build_text_files(test_data, test_path)"
   ]
  },
  {
   "cell_type": "code",
   "execution_count": null,
   "id": "674e7a2b",
   "metadata": {
    "id": "674e7a2b"
   },
   "outputs": [],
   "source": [
    "df = pd.DataFrame(in_recipe)"
   ]
  },
  {
   "cell_type": "code",
   "execution_count": null,
   "id": "a4bb381a",
   "metadata": {
    "colab": {
     "base_uri": "https://localhost:8080/",
     "height": 206
    },
    "executionInfo": {
     "elapsed": 9,
     "status": "ok",
     "timestamp": 1676195325956,
     "user": {
      "displayName": "Shreemit Garimella",
      "userId": "04027312352779340061"
     },
     "user_tz": 480
    },
    "id": "a4bb381a",
    "outputId": "d9e4aaca-5cce-496c-d6ec-3629e10e62a6"
   },
   "outputs": [
    {
     "data": {
      "text/html": [
       "\n",
       "  <div id=\"df-4b4aa4fe-a6f5-49e4-bd67-5cc1d037ab67\">\n",
       "    <div class=\"colab-df-container\">\n",
       "      <div>\n",
       "<style scoped>\n",
       "    .dataframe tbody tr th:only-of-type {\n",
       "        vertical-align: middle;\n",
       "    }\n",
       "\n",
       "    .dataframe tbody tr th {\n",
       "        vertical-align: top;\n",
       "    }\n",
       "\n",
       "    .dataframe thead th {\n",
       "        text-align: right;\n",
       "    }\n",
       "</style>\n",
       "<table border=\"1\" class=\"dataframe\">\n",
       "  <thead>\n",
       "    <tr style=\"text-align: right;\">\n",
       "      <th></th>\n",
       "      <th>title</th>\n",
       "      <th>text</th>\n",
       "    </tr>\n",
       "  </thead>\n",
       "  <tbody>\n",
       "    <tr>\n",
       "      <th>0</th>\n",
       "      <td>Worlds Best Mac and Cheese</td>\n",
       "      <td>penne | beechers flagship cheese sauce | chedd...</td>\n",
       "    </tr>\n",
       "    <tr>\n",
       "      <th>1</th>\n",
       "      <td>Dilly Macaroni Salad Recipe</td>\n",
       "      <td>c. eow macaroni | c. cubed american cheese | c...</td>\n",
       "    </tr>\n",
       "    <tr>\n",
       "      <th>2</th>\n",
       "      <td>Gazpacho</td>\n",
       "      <td>maes, quartered | kosher salt | red onion, cut...</td>\n",
       "    </tr>\n",
       "    <tr>\n",
       "      <th>3</th>\n",
       "      <td>Crunchy Onion Potato Bake</td>\n",
       "      <td>milk | water | butter | mashed potaes,  box, h...</td>\n",
       "    </tr>\n",
       "    <tr>\n",
       "      <th>4</th>\n",
       "      <td>Cool 'n Easy Creamy Watermelon Pie</td>\n",
       "      <td>package watermelon gelatin | boiling water | p...</td>\n",
       "    </tr>\n",
       "  </tbody>\n",
       "</table>\n",
       "</div>\n",
       "      <button class=\"colab-df-convert\" onclick=\"convertToInteractive('df-4b4aa4fe-a6f5-49e4-bd67-5cc1d037ab67')\"\n",
       "              title=\"Convert this dataframe to an interactive table.\"\n",
       "              style=\"display:none;\">\n",
       "        \n",
       "  <svg xmlns=\"http://www.w3.org/2000/svg\" height=\"24px\"viewBox=\"0 0 24 24\"\n",
       "       width=\"24px\">\n",
       "    <path d=\"M0 0h24v24H0V0z\" fill=\"none\"/>\n",
       "    <path d=\"M18.56 5.44l.94 2.06.94-2.06 2.06-.94-2.06-.94-.94-2.06-.94 2.06-2.06.94zm-11 1L8.5 8.5l.94-2.06 2.06-.94-2.06-.94L8.5 2.5l-.94 2.06-2.06.94zm10 10l.94 2.06.94-2.06 2.06-.94-2.06-.94-.94-2.06-.94 2.06-2.06.94z\"/><path d=\"M17.41 7.96l-1.37-1.37c-.4-.4-.92-.59-1.43-.59-.52 0-1.04.2-1.43.59L10.3 9.45l-7.72 7.72c-.78.78-.78 2.05 0 2.83L4 21.41c.39.39.9.59 1.41.59.51 0 1.02-.2 1.41-.59l7.78-7.78 2.81-2.81c.8-.78.8-2.07 0-2.86zM5.41 20L4 18.59l7.72-7.72 1.47 1.35L5.41 20z\"/>\n",
       "  </svg>\n",
       "      </button>\n",
       "      \n",
       "  <style>\n",
       "    .colab-df-container {\n",
       "      display:flex;\n",
       "      flex-wrap:wrap;\n",
       "      gap: 12px;\n",
       "    }\n",
       "\n",
       "    .colab-df-convert {\n",
       "      background-color: #E8F0FE;\n",
       "      border: none;\n",
       "      border-radius: 50%;\n",
       "      cursor: pointer;\n",
       "      display: none;\n",
       "      fill: #1967D2;\n",
       "      height: 32px;\n",
       "      padding: 0 0 0 0;\n",
       "      width: 32px;\n",
       "    }\n",
       "\n",
       "    .colab-df-convert:hover {\n",
       "      background-color: #E2EBFA;\n",
       "      box-shadow: 0px 1px 2px rgba(60, 64, 67, 0.3), 0px 1px 3px 1px rgba(60, 64, 67, 0.15);\n",
       "      fill: #174EA6;\n",
       "    }\n",
       "\n",
       "    [theme=dark] .colab-df-convert {\n",
       "      background-color: #3B4455;\n",
       "      fill: #D2E3FC;\n",
       "    }\n",
       "\n",
       "    [theme=dark] .colab-df-convert:hover {\n",
       "      background-color: #434B5C;\n",
       "      box-shadow: 0px 1px 3px 1px rgba(0, 0, 0, 0.15);\n",
       "      filter: drop-shadow(0px 1px 2px rgba(0, 0, 0, 0.3));\n",
       "      fill: #FFFFFF;\n",
       "    }\n",
       "  </style>\n",
       "\n",
       "      <script>\n",
       "        const buttonEl =\n",
       "          document.querySelector('#df-4b4aa4fe-a6f5-49e4-bd67-5cc1d037ab67 button.colab-df-convert');\n",
       "        buttonEl.style.display =\n",
       "          google.colab.kernel.accessAllowed ? 'block' : 'none';\n",
       "\n",
       "        async function convertToInteractive(key) {\n",
       "          const element = document.querySelector('#df-4b4aa4fe-a6f5-49e4-bd67-5cc1d037ab67');\n",
       "          const dataTable =\n",
       "            await google.colab.kernel.invokeFunction('convertToInteractive',\n",
       "                                                     [key], {});\n",
       "          if (!dataTable) return;\n",
       "\n",
       "          const docLinkHtml = 'Like what you see? Visit the ' +\n",
       "            '<a target=\"_blank\" href=https://colab.research.google.com/notebooks/data_table.ipynb>data table notebook</a>'\n",
       "            + ' to learn more about interactive tables.';\n",
       "          element.innerHTML = '';\n",
       "          dataTable['output_type'] = 'display_data';\n",
       "          await google.colab.output.renderOutput(dataTable, element);\n",
       "          const docLink = document.createElement('div');\n",
       "          docLink.innerHTML = docLinkHtml;\n",
       "          element.appendChild(docLink);\n",
       "        }\n",
       "      </script>\n",
       "    </div>\n",
       "  </div>\n",
       "  "
      ],
      "text/plain": [
       "                                title  \\\n",
       "0          Worlds Best Mac and Cheese   \n",
       "1         Dilly Macaroni Salad Recipe   \n",
       "2                            Gazpacho   \n",
       "3           Crunchy Onion Potato Bake   \n",
       "4  Cool 'n Easy Creamy Watermelon Pie   \n",
       "\n",
       "                                                text  \n",
       "0  penne | beechers flagship cheese sauce | chedd...  \n",
       "1  c. eow macaroni | c. cubed american cheese | c...  \n",
       "2  maes, quartered | kosher salt | red onion, cut...  \n",
       "3  milk | water | butter | mashed potaes,  box, h...  \n",
       "4  package watermelon gelatin | boiling water | p...  "
      ]
     },
     "execution_count": 16,
     "metadata": {},
     "output_type": "execute_result"
    }
   ],
   "source": [
    "df.head()"
   ]
  },
  {
   "cell_type": "code",
   "execution_count": null,
   "id": "861d901c",
   "metadata": {
    "colab": {
     "base_uri": "https://localhost:8080/"
    },
    "executionInfo": {
     "elapsed": 3077,
     "status": "ok",
     "timestamp": 1676195329164,
     "user": {
      "displayName": "Shreemit Garimella",
      "userId": "04027312352779340061"
     },
     "user_tz": 480
    },
    "id": "861d901c",
    "outputId": "4e662564-0d63-4404-e5dd-a6e15e3ed0e3"
   },
   "outputs": [
    {
     "data": {
      "text/plain": [
       "(1023218, 1029720)"
      ]
     },
     "execution_count": 17,
     "metadata": {},
     "output_type": "execute_result"
    }
   ],
   "source": [
    "len(df.text.unique()), len(df)"
   ]
  },
  {
   "cell_type": "code",
   "execution_count": null,
   "id": "5bbbe206",
   "metadata": {
    "id": "5bbbe206"
   },
   "outputs": [],
   "source": [
    "df.to_csv('preprossData.csv')"
   ]
  },
  {
   "cell_type": "code",
   "execution_count": 1,
   "id": "69PBd_KOKdBJ",
   "metadata": {
    "id": "69PBd_KOKdBJ"
   },
   "outputs": [],
   "source": [
    "import torch"
   ]
  },
  {
   "cell_type": "code",
   "execution_count": null,
   "id": "570b70a8",
   "metadata": {},
   "outputs": [],
   "source": []
  }
 ],
 "metadata": {
  "colab": {
   "provenance": []
  },
  "kernelspec": {
   "display_name": "Python 3 (ipykernel)",
   "language": "python",
   "name": "python3"
  },
  "language_info": {
   "codemirror_mode": {
    "name": "ipython",
    "version": 3
   },
   "file_extension": ".py",
   "mimetype": "text/x-python",
   "name": "python",
   "nbconvert_exporter": "python",
   "pygments_lexer": "ipython3",
   "version": "3.10.9"
  }
 },
 "nbformat": 4,
 "nbformat_minor": 5
}
